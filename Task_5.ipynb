from scapy.all import *

def packet_callback(packet):
    if packet.haslayer(IP):
        src_ip = packet[IP].src
        dst_ip = packet[IP].dst
        protocol = packet[IP].proto
        print(f"IP Packet: {src_ip} -> {dst_ip} Protocol: {protocol}")

    if packet.haslayer(TCP):
        src_port = packet[TCP].sport
        dst_port = packet[TCP].dport
        print(f"TCP Packet: {src_port} -> {dst_port} Payload: {str(packet[TCP].payload)}")

    if packet.haslayer(UDP):
        src_port = packet[UDP].sport
        dst_port = packet[UDP].dport
        print(f"UDP Packet: {src_port} -> {dst_port} Payload: {str(packet[UDP].payload)}")

# Sniff all incoming and outgoing packets
sniff(prn=packet_callback, store=0)
